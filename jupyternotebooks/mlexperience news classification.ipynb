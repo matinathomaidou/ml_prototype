{
 "cells": [
  {
   "cell_type": "markdown",
   "metadata": {},
   "source": [
    "mlexperience.org - news article classification\n",
    " \n",
    "http://www.nltk.org/book/ch02.html help is available in the nltk book section 1.4\n",
    "http://enricbaltasar.com/python-summary-methods-lists/ help with Python lists\n",
    "http://pandas.pydata.org/pandas-docs/stable/generated/pandas.DataFrame.html\n",
    "Pandas dataframe guide"
   ]
  },
  {
   "cell_type": "markdown",
   "metadata": {},
   "source": [
    "Investigating word popularity in the articles"
   ]
  },
  {
   "cell_type": "code",
   "execution_count": 1,
   "metadata": {
    "collapsed": false
   },
   "outputs": [],
   "source": [
    "from nltk import word_tokenize\n",
    "from nltk.tokenize import RegexpTokenizer\n",
    "from nltk.tokenize import StanfordTokenizer\n",
    "from nltk.stem.porter import PorterStemmer\n",
    "import re\n",
    "from nltk.corpus import stopwords\n",
    "from nltk.corpus import reuters\n",
    "import os\n",
    "from nltk.parse import stanford\n",
    "from nltk.tokenize import wordpunct_tokenize\n",
    "from nltk.tokenize import WordPunctTokenizer\n",
    "from nltk.tokenize import WhitespaceTokenizer\n",
    "from nltk.stem.lancaster import LancasterStemmer\n",
    "from nltk.stem import RegexpStemmer\n",
    "st = RegexpStemmer('ing$|s$|e$|able$', min=4)\n",
    "from nltk.stem.snowball import EnglishStemmer\n",
    "snow = EnglishStemmer()\n",
    "from nltk.stem import WordNetLemmatizer\n",
    "wnl = WordNetLemmatizer()\n",
    "from collections import Counter\n",
    "import numpy as np\n",
    "import pandas as pd\n",
    "#os.environ['STANFORD_PARSER'] = '/Users/David/postagger/stanford-parser-full-2014-08-27/stanford-parser.jar'\n",
    "#os.environ['STANFORD_MODELS'] = '/Users/David/postagger/stanford-parser-full-2014-08-27/stanford-parser-3.4.1-models.jar'\n",
    "#parser = stanford.StanfordParser(model_path=\"/Users/David/postagger/stanford-parser-full-2014-08-27/stanford-parser-3.4.1-models/edu/stanford/nlp/models/lexparser/englishPCFG.ser.gz\")\n",
    "cachedStopWords = stopwords.words(\"english\")\n",
    "#cachedStopWords.append('said')\n",
    " \n",
    "def tokenize(text):\n",
    "    min_length = 3\n",
    "    #tokenizer = RegexpTokenizer('\\w+|\\$[\\d\\.]+|\\S+')\n",
    "    words =  map(lambda word: word.lower(), WordPunctTokenizer().tokenize(text))\n",
    "    #words = list(WhitespaceTokenizer().span_tokenize(text))\n",
    "    #words = map(lambda word: word.lower(), word_tokenize(text));    \n",
    "    #words = wordpunct_tokenize(text)\n",
    "    #word_tokenize = Penn Treebank#\n",
    "    #words = map(lambda word: word.lower(), tokenizer.tokenize(text));\n",
    "    #words = list(parser.raw_parse(text,verbose=False))\n",
    "    #words = map(lambda word: word.lower(), text.split())\n",
    "    words = [word for word in words\n",
    "             if word not in cachedStopWords]\n",
    "    #tokens =(list(map(lambda token: PorterStemmer().stem(token),words)));\n",
    "    #tokens =(list(map(lambda token: LancasterStemmer().stem(token),words)));\n",
    "    #tokens =(list(map(lambda token: snow.stem(token),words)));\n",
    "    #tokens =(list(map(lambda token: st.stem(token),words)));\n",
    "    tokens =(list(map(lambda token: wnl.lemmatize(token),words)));\n",
    "    #tokens=words\n",
    "    p = re.compile('[a-zA-Z]+');\n",
    "    filter_words = list(filter(lambda token: p.match(token) and len(token)>=min_length, tokens));\n",
    "    return filter_words\n"
   ]
  },
  {
   "cell_type": "code",
   "execution_count": 2,
   "metadata": {
    "collapsed": false
   },
   "outputs": [
    {
     "name": "stdout",
     "output_type": "stream",
     "text": [
      "247\n"
     ]
    }
   ],
   "source": [
    "import pandas as pd  #For python data frame\n",
    "import pymongo #For mongoDB\n",
    "#important\n",
    "#run guardian.py first to create the data set\n",
    "#guardian.py \n",
    "#start_date = date.today() - timedelta(2)  -  2 days from the current day\n",
    "#end_date = date.today() - timedelta(1) - end 1 day from the current day\n",
    "#to get a longer period change the timedelta(x) \n",
    "\n",
    "\n",
    "#Create connection to the MongoDB. Note the MongoDB must be running.\n",
    "conn=pymongo.MongoClient('localhost',27017)\n",
    "db = conn.mlexperience  #This database needs to be changed according to date of scrape\n",
    "#Robomonogo 0.9.0 is useful to see the database and json structures of documents\n",
    "#https://robomongo.org/\n",
    "\n",
    "print(db.news.count())  #Print out the number of records in the database, visual check on connection.\n",
    "\n",
    "df = pd.DataFrame(list(db.news.find())) #Copy the reports to the dataframe and close the connection\n",
    "conn.close() "
   ]
  },
  {
   "cell_type": "code",
   "execution_count": 4,
   "metadata": {
    "collapsed": false
   },
   "outputs": [],
   "source": [
    "#build a data frame to feed the vectorizer\n",
    "data1 = pd.DataFrame(data=df)\n",
    "df = data1[['ml_id','topic','text']]\n"
   ]
  },
  {
   "cell_type": "code",
   "execution_count": 5,
   "metadata": {
    "collapsed": false
   },
   "outputs": [
    {
     "data": {
      "text/plain": [
       "(247, 3)"
      ]
     },
     "execution_count": 5,
     "metadata": {},
     "output_type": "execute_result"
    }
   ],
   "source": [
    "df.shape\n"
   ]
  },
  {
   "cell_type": "code",
   "execution_count": 6,
   "metadata": {
    "collapsed": false
   },
   "outputs": [
    {
     "data": {
      "text/html": [
       "<div>\n",
       "<table border=\"1\" class=\"dataframe\">\n",
       "  <thead>\n",
       "    <tr style=\"text-align: right;\">\n",
       "      <th></th>\n",
       "      <th>ml_id</th>\n",
       "      <th>topic</th>\n",
       "      <th>text</th>\n",
       "    </tr>\n",
       "  </thead>\n",
       "  <tbody>\n",
       "    <tr>\n",
       "      <th>242</th>\n",
       "      <td>world/2017/may/08/pepe-the-frog-creator-kills-...</td>\n",
       "      <td>/World news</td>\n",
       "      <td>The creator of Pepe the Frog has symbolically ...</td>\n",
       "    </tr>\n",
       "    <tr>\n",
       "      <th>243</th>\n",
       "      <td>artanddesign/2017/may/08/bare-naked-photos-hig...</td>\n",
       "      <td>/Art and design</td>\n",
       "      <td>It seems like an awkward conundrum for a photo...</td>\n",
       "    </tr>\n",
       "    <tr>\n",
       "      <th>244</th>\n",
       "      <td>tv-and-radio/2017/may/08/american-gods-recap-s...</td>\n",
       "      <td>/Television &amp; radio</td>\n",
       "      <td>Spoiler alert: this blog is for people watchin...</td>\n",
       "    </tr>\n",
       "    <tr>\n",
       "      <th>245</th>\n",
       "      <td>australia-news/2017/may/08/labor-australians-f...</td>\n",
       "      <td>/Australia news</td>\n",
       "      <td>Bill Shorten has conceded that people with mor...</td>\n",
       "    </tr>\n",
       "    <tr>\n",
       "      <th>246</th>\n",
       "      <td>commentisfree/2017/may/08/naplan-is-a-mess-and...</td>\n",
       "      <td>/Opinion</td>\n",
       "      <td>There was no Naplan when I started teaching in...</td>\n",
       "    </tr>\n",
       "  </tbody>\n",
       "</table>\n",
       "</div>"
      ],
      "text/plain": [
       "                                                 ml_id                topic  \\\n",
       "242  world/2017/may/08/pepe-the-frog-creator-kills-...          /World news   \n",
       "243  artanddesign/2017/may/08/bare-naked-photos-hig...      /Art and design   \n",
       "244  tv-and-radio/2017/may/08/american-gods-recap-s...  /Television & radio   \n",
       "245  australia-news/2017/may/08/labor-australians-f...      /Australia news   \n",
       "246  commentisfree/2017/may/08/naplan-is-a-mess-and...             /Opinion   \n",
       "\n",
       "                                                  text  \n",
       "242  The creator of Pepe the Frog has symbolically ...  \n",
       "243  It seems like an awkward conundrum for a photo...  \n",
       "244  Spoiler alert: this blog is for people watchin...  \n",
       "245  Bill Shorten has conceded that people with mor...  \n",
       "246  There was no Naplan when I started teaching in...  "
      ]
     },
     "execution_count": 6,
     "metadata": {},
     "output_type": "execute_result"
    }
   ],
   "source": [
    "df.tail(5)"
   ]
  },
  {
   "cell_type": "code",
   "execution_count": 7,
   "metadata": {
    "collapsed": false
   },
   "outputs": [],
   "source": [
    "from sklearn.feature_extraction.text import CountVectorizer\n",
    "from sklearn.feature_extraction.text import TfidfVectorizer\n",
    "#Values for document frequencies in percent.\n",
    "minp=0.001\n",
    "maxp=0.95\n",
    "vec6_count = CountVectorizer(tokenizer=tokenize,min_df=minp,max_df=maxp,ngram_range=(1,3),analyzer='word')\n",
    "vec6_idf =   TfidfVectorizer(tokenizer=tokenize,min_df=minp,max_df=maxp,ngram_range=(1,3),analyzer='word')\n",
    "from sklearn.feature_extraction.text import HashingVectorizer\n",
    "hv = HashingVectorizer(n_features=10)\n",
    "#hv.transform(corpus)\n",
    "vec=vec6_count\n",
    "\n",
    "#2# Specify the model\n",
    "from sklearn.naive_bayes import MultinomialNB\n",
    "#clf = MultinomialNB()\n",
    "from sklearn import neighbors\n",
    "from sklearn.neighbors import RadiusNeighborsClassifier\n",
    "from sklearn import svm\n",
    "#clf = svm.SVC()\n",
    "#n_neighbors = 15\n",
    "#clf = neighbors.KNeighborsClassifier(n_neighbors)\n",
    "#clf = neighbors.RadiusNeighborsClassifier(n_neighbors)\n",
    "from sklearn.neural_network import MLPClassifier\n",
    "#clf = MLPClassifier(solver='lbfgs', alpha=1e-5, hidden_layer_sizes=(5, 2), random_state=1)\n",
    "#3# Using pipelineing, the data transformations can chained together \n",
    "#and the last object is the estimator or model.\n",
    "\n",
    "from sklearn.linear_model import SGDClassifier\n",
    "clf = SGDClassifier(loss=\"hinge\", penalty=\"l2\")\n",
    "from sklearn import pipeline\n",
    "pipe = pipeline.Pipeline([('vectorizer', vec),\n",
    "                          ('clf', clf)])"
   ]
  },
  {
   "cell_type": "code",
   "execution_count": 9,
   "metadata": {
    "collapsed": false
   },
   "outputs": [],
   "source": [
    "X=df['text']\n",
    "from sklearn import preprocessing\n",
    "le = preprocessing.LabelEncoder()\n",
    "le.fit(df['topic'])\n",
    "y=le.transform(df['topic'])"
   ]
  },
  {
   "cell_type": "code",
   "execution_count": 10,
   "metadata": {
    "collapsed": false
   },
   "outputs": [
    {
     "name": "stderr",
     "output_type": "stream",
     "text": [
      "/usr/local/lib/python3.5/dist-packages/sklearn/cross_validation.py:44: DeprecationWarning: This module was deprecated in version 0.18 in favor of the model_selection module into which all the refactored classes and functions are moved. Also note that the interface of the new CV iterators are different from that of this module. This module will be removed in 0.20.\n",
      "  \"This module will be removed in 0.20.\", DeprecationWarning)\n"
     ]
    }
   ],
   "source": [
    "from sklearn import cross_validation\n",
    "X_train, X_test, y_train, y_test = cross_validation.train_test_split(X,y,test_size=0.4,random_state=79)"
   ]
  },
  {
   "cell_type": "code",
   "execution_count": 11,
   "metadata": {
    "collapsed": false
   },
   "outputs": [
    {
     "name": "stderr",
     "output_type": "stream",
     "text": [
      "/usr/local/lib/python3.5/dist-packages/sklearn/cross_validation.py:552: Warning: The least populated class in y has only 1 members, which is too few. The minimum number of labels for any class cannot be less than n_folds=5.\n",
      "  % (min_labels, self.n_folds)), Warning)\n"
     ]
    },
    {
     "name": "stdout",
     "output_type": "stream",
     "text": [
      "Training Accuracy: 0.413 (+/- 0.076). Test Score: (0.283)\n"
     ]
    }
   ],
   "source": [
    "#6# Train the model using 5 fold cross validation and calculate the scores. \n",
    "train_scores = cross_validation.cross_val_score(pipe, X_train, y_train, cv=5)\n",
    "#Fit the model\n",
    "pipe=pipe.fit(X_train, y_train)\n",
    "#Score the model on unseen test data  data\n",
    "test_score=pipe.score(X_test,y_test)\n",
    "\n",
    "#7# Print out the accuracy scores and \n",
    "print(\"Training Accuracy: %0.3f (+/- %0.3f). Test Score: (%0.3f)\" \n",
    "      % (train_scores.mean(), train_scores.std(),test_score))\n",
    "\n",
    "\n"
   ]
  },
  {
   "cell_type": "code",
   "execution_count": 12,
   "metadata": {
    "collapsed": false
   },
   "outputs": [],
   "source": [
    "y_predicted = pipe.predict(df['text'])\n",
    "pred_labels = le.inverse_transform(y_predicted)\n",
    "act_labels = le.inverse_transform(y_test)"
   ]
  },
  {
   "cell_type": "code",
   "execution_count": 13,
   "metadata": {
    "collapsed": false
   },
   "outputs": [
    {
     "name": "stderr",
     "output_type": "stream",
     "text": [
      "/home/david/.local/lib/python3.5/site-packages/ipykernel/__main__.py:1: SettingWithCopyWarning: \n",
      "A value is trying to be set on a copy of a slice from a DataFrame.\n",
      "Try using .loc[row_indexer,col_indexer] = value instead\n",
      "\n",
      "See the caveats in the documentation: http://pandas.pydata.org/pandas-docs/stable/indexing.html#indexing-view-versus-copy\n",
      "  if __name__ == '__main__':\n"
     ]
    }
   ],
   "source": [
    "df['predicted'] = pred_labels"
   ]
  },
  {
   "cell_type": "code",
   "execution_count": 14,
   "metadata": {
    "collapsed": false
   },
   "outputs": [
    {
     "name": "stderr",
     "output_type": "stream",
     "text": [
      "/home/david/.local/lib/python3.5/site-packages/ipykernel/__main__.py:1: SettingWithCopyWarning: \n",
      "A value is trying to be set on a copy of a slice from a DataFrame.\n",
      "Try using .loc[row_indexer,col_indexer] = value instead\n",
      "\n",
      "See the caveats in the documentation: http://pandas.pydata.org/pandas-docs/stable/indexing.html#indexing-view-versus-copy\n",
      "  if __name__ == '__main__':\n",
      "/home/david/.local/lib/python3.5/site-packages/ipykernel/__main__.py:2: SettingWithCopyWarning: \n",
      "A value is trying to be set on a copy of a slice from a DataFrame.\n",
      "Try using .loc[row_indexer,col_indexer] = value instead\n",
      "\n",
      "See the caveats in the documentation: http://pandas.pydata.org/pandas-docs/stable/indexing.html#indexing-view-versus-copy\n",
      "  from ipykernel import kernelapp as app\n"
     ]
    }
   ],
   "source": [
    "df['score'] = (df['predicted'] == df['topic'])\n",
    "df['hash'] = 1"
   ]
  },
  {
   "cell_type": "code",
   "execution_count": 23,
   "metadata": {
    "collapsed": false
   },
   "outputs": [],
   "source": [
    "temdf = df.drop(['text'], axis=1, level=None, inplace=False, errors='raise')\n",
    "temdf.head(5)\n",
    "temdf = temdf[temdf['ml_id'] != 'x']\n",
    "#temdf['topic'] = temdf['topic'].apply(lambda x: '' + str(x[0]))"
   ]
  },
  {
   "cell_type": "code",
   "execution_count": 27,
   "metadata": {
    "collapsed": false,
    "scrolled": true
   },
   "outputs": [
    {
     "name": "stderr",
     "output_type": "stream",
     "text": [
      "/home/david/.local/lib/python3.5/site-packages/ipykernel/__main__.py:2: FutureWarning: sort(columns=....) is deprecated, use sort_values(by=.....)\n",
      "  from ipykernel import kernelapp as app\n"
     ]
    },
    {
     "data": {
      "text/html": [
       "<div>\n",
       "<table border=\"1\" class=\"dataframe\">\n",
       "  <thead>\n",
       "    <tr style=\"text-align: right;\">\n",
       "      <th>score</th>\n",
       "      <th>False</th>\n",
       "      <th>True</th>\n",
       "      <th>All</th>\n",
       "    </tr>\n",
       "    <tr>\n",
       "      <th>topic</th>\n",
       "      <th></th>\n",
       "      <th></th>\n",
       "      <th></th>\n",
       "    </tr>\n",
       "  </thead>\n",
       "  <tbody>\n",
       "    <tr>\n",
       "      <th>All</th>\n",
       "      <td>71.0</td>\n",
       "      <td>176.0</td>\n",
       "      <td>247.0</td>\n",
       "    </tr>\n",
       "    <tr>\n",
       "      <th>/Opinion</th>\n",
       "      <td>10.0</td>\n",
       "      <td>16.0</td>\n",
       "      <td>26.0</td>\n",
       "    </tr>\n",
       "    <tr>\n",
       "      <th>/World news</th>\n",
       "      <td>6.0</td>\n",
       "      <td>19.0</td>\n",
       "      <td>25.0</td>\n",
       "    </tr>\n",
       "    <tr>\n",
       "      <th>/Football</th>\n",
       "      <td>1.0</td>\n",
       "      <td>17.0</td>\n",
       "      <td>18.0</td>\n",
       "    </tr>\n",
       "    <tr>\n",
       "      <th>/Politics</th>\n",
       "      <td>3.0</td>\n",
       "      <td>12.0</td>\n",
       "      <td>15.0</td>\n",
       "    </tr>\n",
       "    <tr>\n",
       "      <th>/Life and style</th>\n",
       "      <td>6.0</td>\n",
       "      <td>7.0</td>\n",
       "      <td>13.0</td>\n",
       "    </tr>\n",
       "    <tr>\n",
       "      <th>/US news</th>\n",
       "      <td>2.0</td>\n",
       "      <td>9.0</td>\n",
       "      <td>11.0</td>\n",
       "    </tr>\n",
       "    <tr>\n",
       "      <th>/Books</th>\n",
       "      <td>0.0</td>\n",
       "      <td>11.0</td>\n",
       "      <td>11.0</td>\n",
       "    </tr>\n",
       "    <tr>\n",
       "      <th>/Environment</th>\n",
       "      <td>2.0</td>\n",
       "      <td>8.0</td>\n",
       "      <td>10.0</td>\n",
       "    </tr>\n",
       "    <tr>\n",
       "      <th>/Sport</th>\n",
       "      <td>1.0</td>\n",
       "      <td>8.0</td>\n",
       "      <td>9.0</td>\n",
       "    </tr>\n",
       "  </tbody>\n",
       "</table>\n",
       "</div>"
      ],
      "text/plain": [
       "score            False   True    All\n",
       "topic                               \n",
       "All               71.0  176.0  247.0\n",
       "/Opinion          10.0   16.0   26.0\n",
       "/World news        6.0   19.0   25.0\n",
       "/Football          1.0   17.0   18.0\n",
       "/Politics          3.0   12.0   15.0\n",
       "/Life and style    6.0    7.0   13.0\n",
       "/US news           2.0    9.0   11.0\n",
       "/Books             0.0   11.0   11.0\n",
       "/Environment       2.0    8.0   10.0\n",
       "/Sport             1.0    8.0    9.0"
      ]
     },
     "execution_count": 27,
     "metadata": {},
     "output_type": "execute_result"
    }
   ],
   "source": [
    "table = pd.pivot_table(temdf, values='hash', index='topic', columns='score', aggfunc=np.sum, margins=True, fill_value=0)\n",
    "table = table.sort('All', ascending=False)\n",
    "table.head(10)"
   ]
  },
  {
   "cell_type": "code",
   "execution_count": 28,
   "metadata": {
    "collapsed": false
   },
   "outputs": [
    {
     "name": "stdout",
     "output_type": "stream",
     "text": [
      "score                              False  True   All\n",
      "topic                                               \n",
      "/Books                               0.0  11.0  11.0\n",
      "/Society                             0.0   6.0   6.0\n",
      "/Science                             0.0   5.0   5.0\n",
      "/Film                                0.0   5.0   5.0\n",
      "/Barclays Let's go forward           0.0   3.0   3.0\n",
      "/Cities                              0.0   2.0   2.0\n",
      "/Fashion                             0.0   1.0   1.0\n",
      "/Membership                          0.0   1.0   1.0\n",
      "/Healthcare Professionals Network    0.0   1.0   1.0\n",
      "/News                                0.0   1.0   1.0\n",
      "/Crosswords                          0.0   1.0   1.0\n"
     ]
    }
   ],
   "source": [
    "table.iloc[:,1] == table.iloc[:,2]\n",
    "print(table[table.iloc[:,1] == table.iloc[:,2]])"
   ]
  },
  {
   "cell_type": "code",
   "execution_count": 29,
   "metadata": {
    "collapsed": false
   },
   "outputs": [
    {
     "name": "stdout",
     "output_type": "stream",
     "text": [
      "score                             False  True  All\n",
      "topic                                             \n",
      "/Media                              4.0   0.0  4.0\n",
      "/Art and design                     3.0   0.0  3.0\n",
      "/Culture                            2.0   0.0  2.0\n",
      "/Global                             2.0   0.0  2.0\n",
      "/Discover Canal & River Trust       1.0   0.0  1.0\n",
      "/Travel                             1.0   0.0  1.0\n",
      "/Guardian Careers                   1.0   0.0  1.0\n",
      "/Guardian Small Business Network    1.0   0.0  1.0\n",
      "/Social Care Network                1.0   0.0  1.0\n",
      "/Public Leaders Network             1.0   0.0  1.0\n",
      "/Inequality                         1.0   0.0  1.0\n"
     ]
    }
   ],
   "source": [
    "print(table[table.iloc[:,0] == table.iloc[:,2]])"
   ]
  },
  {
   "cell_type": "code",
   "execution_count": 30,
   "metadata": {
    "collapsed": false
   },
   "outputs": [
    {
     "data": {
      "text/plain": [
       "(42, 3)"
      ]
     },
     "execution_count": 30,
     "metadata": {},
     "output_type": "execute_result"
    }
   ],
   "source": [
    "table.shape"
   ]
  },
  {
   "cell_type": "code",
   "execution_count": 31,
   "metadata": {
    "collapsed": false
   },
   "outputs": [
    {
     "data": {
      "text/html": [
       "<div>\n",
       "<table border=\"1\" class=\"dataframe\">\n",
       "  <thead>\n",
       "    <tr style=\"text-align: right;\">\n",
       "      <th></th>\n",
       "      <th>ml_id</th>\n",
       "      <th>topic</th>\n",
       "      <th>predicted</th>\n",
       "      <th>score</th>\n",
       "      <th>hash</th>\n",
       "    </tr>\n",
       "  </thead>\n",
       "  <tbody>\n",
       "    <tr>\n",
       "      <th>0</th>\n",
       "      <td>world/2017/may/09/philippines-senator-tells-un...</td>\n",
       "      <td>/World news</td>\n",
       "      <td>/World news</td>\n",
       "      <td>True</td>\n",
       "      <td>1</td>\n",
       "    </tr>\n",
       "    <tr>\n",
       "      <th>1</th>\n",
       "      <td>football/2017/may/08/ben-gibson-middlesbrough-...</td>\n",
       "      <td>/Football</td>\n",
       "      <td>/Football</td>\n",
       "      <td>True</td>\n",
       "      <td>1</td>\n",
       "    </tr>\n",
       "    <tr>\n",
       "      <th>2</th>\n",
       "      <td>sport/2017/may/09/lou-richards-death-finally-k...</td>\n",
       "      <td>/Sport</td>\n",
       "      <td>/Sport</td>\n",
       "      <td>True</td>\n",
       "      <td>1</td>\n",
       "    </tr>\n",
       "    <tr>\n",
       "      <th>3</th>\n",
       "      <td>football/2017/may/08/antonio-conte-chelsea-awa...</td>\n",
       "      <td>/Football</td>\n",
       "      <td>/Football</td>\n",
       "      <td>True</td>\n",
       "      <td>1</td>\n",
       "    </tr>\n",
       "    <tr>\n",
       "      <th>4</th>\n",
       "      <td>us-news/2017/may/08/sally-yates-trump-russia-m...</td>\n",
       "      <td>/US news</td>\n",
       "      <td>/US news</td>\n",
       "      <td>True</td>\n",
       "      <td>1</td>\n",
       "    </tr>\n",
       "    <tr>\n",
       "      <th>5</th>\n",
       "      <td>politics/2017/may/08/corbyn-pins-labours-elect...</td>\n",
       "      <td>/Politics</td>\n",
       "      <td>/Politics</td>\n",
       "      <td>True</td>\n",
       "      <td>1</td>\n",
       "    </tr>\n",
       "    <tr>\n",
       "      <th>6</th>\n",
       "      <td>world/2017/may/09/gare-du-nord-evacuated-in-pa...</td>\n",
       "      <td>/World news</td>\n",
       "      <td>/World news</td>\n",
       "      <td>True</td>\n",
       "      <td>1</td>\n",
       "    </tr>\n",
       "    <tr>\n",
       "      <th>7</th>\n",
       "      <td>environment/2017/may/09/bq-to-stop-selling-pla...</td>\n",
       "      <td>/Environment</td>\n",
       "      <td>/Books</td>\n",
       "      <td>False</td>\n",
       "      <td>1</td>\n",
       "    </tr>\n",
       "    <tr>\n",
       "      <th>8</th>\n",
       "      <td>society/2017/may/09/statin-trial-raises-hope-d...</td>\n",
       "      <td>/Society</td>\n",
       "      <td>/Society</td>\n",
       "      <td>True</td>\n",
       "      <td>1</td>\n",
       "    </tr>\n",
       "    <tr>\n",
       "      <th>9</th>\n",
       "      <td>money/2017/may/08/theresa-may-to-promise-price...</td>\n",
       "      <td>/Money</td>\n",
       "      <td>/Money</td>\n",
       "      <td>True</td>\n",
       "      <td>1</td>\n",
       "    </tr>\n",
       "  </tbody>\n",
       "</table>\n",
       "</div>"
      ],
      "text/plain": [
       "                                               ml_id         topic  \\\n",
       "0  world/2017/may/09/philippines-senator-tells-un...   /World news   \n",
       "1  football/2017/may/08/ben-gibson-middlesbrough-...     /Football   \n",
       "2  sport/2017/may/09/lou-richards-death-finally-k...        /Sport   \n",
       "3  football/2017/may/08/antonio-conte-chelsea-awa...     /Football   \n",
       "4  us-news/2017/may/08/sally-yates-trump-russia-m...      /US news   \n",
       "5  politics/2017/may/08/corbyn-pins-labours-elect...     /Politics   \n",
       "6  world/2017/may/09/gare-du-nord-evacuated-in-pa...   /World news   \n",
       "7  environment/2017/may/09/bq-to-stop-selling-pla...  /Environment   \n",
       "8  society/2017/may/09/statin-trial-raises-hope-d...      /Society   \n",
       "9  money/2017/may/08/theresa-may-to-promise-price...        /Money   \n",
       "\n",
       "     predicted  score  hash  \n",
       "0  /World news   True     1  \n",
       "1    /Football   True     1  \n",
       "2       /Sport   True     1  \n",
       "3    /Football   True     1  \n",
       "4     /US news   True     1  \n",
       "5    /Politics   True     1  \n",
       "6  /World news   True     1  \n",
       "7       /Books  False     1  \n",
       "8     /Society   True     1  \n",
       "9       /Money   True     1  "
      ]
     },
     "execution_count": 31,
     "metadata": {},
     "output_type": "execute_result"
    }
   ],
   "source": [
    "temdf.head(10)"
   ]
  },
  {
   "cell_type": "code",
   "execution_count": 32,
   "metadata": {
    "collapsed": false
   },
   "outputs": [
    {
     "name": "stderr",
     "output_type": "stream",
     "text": [
      "/usr/local/lib/python3.5/dist-packages/sklearn/cross_validation.py:552: Warning: The least populated class in y has only 1 members, which is too few. The minimum number of labels for any class cannot be less than n_folds=5.\n",
      "  % (min_labels, self.n_folds)), Warning)\n"
     ]
    },
    {
     "name": "stdout",
     "output_type": "stream",
     "text": [
      "Vec:  [Count vec] -> Accuracy: 0.39 (+/- 0.04) Test: 0.21  Model: [Stocastic Gradient]\n"
     ]
    },
    {
     "name": "stderr",
     "output_type": "stream",
     "text": [
      "/usr/local/lib/python3.5/dist-packages/sklearn/cross_validation.py:552: Warning: The least populated class in y has only 1 members, which is too few. The minimum number of labels for any class cannot be less than n_folds=5.\n",
      "  % (min_labels, self.n_folds)), Warning)\n"
     ]
    },
    {
     "name": "stdout",
     "output_type": "stream",
     "text": [
      "Vec:  [Count vec] -> Accuracy: 0.49 (+/- 0.09) Test: 0.33  Model: [Logistic Regression]\n"
     ]
    },
    {
     "name": "stderr",
     "output_type": "stream",
     "text": [
      "/usr/local/lib/python3.5/dist-packages/sklearn/cross_validation.py:552: Warning: The least populated class in y has only 1 members, which is too few. The minimum number of labels for any class cannot be less than n_folds=5.\n",
      "  % (min_labels, self.n_folds)), Warning)\n"
     ]
    },
    {
     "name": "stdout",
     "output_type": "stream",
     "text": [
      "Vec:  [Count vec] -> Accuracy: 0.17 (+/- 0.04) Test: 0.17  Model: [Random Forest]\n"
     ]
    },
    {
     "name": "stderr",
     "output_type": "stream",
     "text": [
      "/usr/local/lib/python3.5/dist-packages/sklearn/cross_validation.py:552: Warning: The least populated class in y has only 1 members, which is too few. The minimum number of labels for any class cannot be less than n_folds=5.\n",
      "  % (min_labels, self.n_folds)), Warning)\n"
     ]
    },
    {
     "name": "stdout",
     "output_type": "stream",
     "text": [
      "Vec:  [Count vec] -> Accuracy: 0.33 (+/- 0.09) Test: 0.25  Model: [naive Bayes]\n"
     ]
    },
    {
     "name": "stderr",
     "output_type": "stream",
     "text": [
      "/usr/local/lib/python3.5/dist-packages/sklearn/cross_validation.py:552: Warning: The least populated class in y has only 1 members, which is too few. The minimum number of labels for any class cannot be less than n_folds=5.\n",
      "  % (min_labels, self.n_folds)), Warning)\n"
     ]
    },
    {
     "name": "stdout",
     "output_type": "stream",
     "text": [
      "Vec:  [Count vec] -> Accuracy: 0.10 (+/- 0.02) Test: 0.10  Model: [svm]\n"
     ]
    },
    {
     "name": "stderr",
     "output_type": "stream",
     "text": [
      "/usr/local/lib/python3.5/dist-packages/sklearn/cross_validation.py:552: Warning: The least populated class in y has only 1 members, which is too few. The minimum number of labels for any class cannot be less than n_folds=5.\n",
      "  % (min_labels, self.n_folds)), Warning)\n"
     ]
    },
    {
     "name": "stdout",
     "output_type": "stream",
     "text": [
      "Vec:  [Count vec] -> Accuracy: 0.13 (+/- 0.04) Test: 0.10  Model: [knn]\n"
     ]
    },
    {
     "name": "stderr",
     "output_type": "stream",
     "text": [
      "/usr/local/lib/python3.5/dist-packages/sklearn/cross_validation.py:552: Warning: The least populated class in y has only 1 members, which is too few. The minimum number of labels for any class cannot be less than n_folds=5.\n",
      "  % (min_labels, self.n_folds)), Warning)\n"
     ]
    },
    {
     "name": "stdout",
     "output_type": "stream",
     "text": [
      "Vec:  [Count vec] -> Accuracy: 0.16 (+/- 0.07) Test: 0.10  Model: [nn mlp]\n"
     ]
    },
    {
     "name": "stderr",
     "output_type": "stream",
     "text": [
      "/usr/local/lib/python3.5/dist-packages/sklearn/cross_validation.py:552: Warning: The least populated class in y has only 1 members, which is too few. The minimum number of labels for any class cannot be less than n_folds=5.\n",
      "  % (min_labels, self.n_folds)), Warning)\n"
     ]
    },
    {
     "name": "stdout",
     "output_type": "stream",
     "text": [
      "Vec:  [Count vec] -> Accuracy: 0.35 (+/- 0.07) Test: 0.28  Model: [ensemble]\n"
     ]
    },
    {
     "name": "stderr",
     "output_type": "stream",
     "text": [
      "/usr/local/lib/python3.5/dist-packages/sklearn/cross_validation.py:552: Warning: The least populated class in y has only 1 members, which is too few. The minimum number of labels for any class cannot be less than n_folds=5.\n",
      "  % (min_labels, self.n_folds)), Warning)\n"
     ]
    },
    {
     "name": "stdout",
     "output_type": "stream",
     "text": [
      "Vec:  [tfidf vec] -> Accuracy: 0.29 (+/- 0.06) Test: 0.22  Model: [Stocastic Gradient]\n"
     ]
    },
    {
     "name": "stderr",
     "output_type": "stream",
     "text": [
      "/usr/local/lib/python3.5/dist-packages/sklearn/cross_validation.py:552: Warning: The least populated class in y has only 1 members, which is too few. The minimum number of labels for any class cannot be less than n_folds=5.\n",
      "  % (min_labels, self.n_folds)), Warning)\n"
     ]
    },
    {
     "name": "stdout",
     "output_type": "stream",
     "text": [
      "Vec:  [tfidf vec] -> Accuracy: 0.29 (+/- 0.06) Test: 0.20  Model: [Logistic Regression]\n"
     ]
    },
    {
     "name": "stderr",
     "output_type": "stream",
     "text": [
      "/usr/local/lib/python3.5/dist-packages/sklearn/cross_validation.py:552: Warning: The least populated class in y has only 1 members, which is too few. The minimum number of labels for any class cannot be less than n_folds=5.\n",
      "  % (min_labels, self.n_folds)), Warning)\n"
     ]
    },
    {
     "name": "stdout",
     "output_type": "stream",
     "text": [
      "Vec:  [tfidf vec] -> Accuracy: 0.20 (+/- 0.04) Test: 0.18  Model: [Random Forest]\n"
     ]
    },
    {
     "name": "stderr",
     "output_type": "stream",
     "text": [
      "/usr/local/lib/python3.5/dist-packages/sklearn/cross_validation.py:552: Warning: The least populated class in y has only 1 members, which is too few. The minimum number of labels for any class cannot be less than n_folds=5.\n",
      "  % (min_labels, self.n_folds)), Warning)\n"
     ]
    },
    {
     "name": "stdout",
     "output_type": "stream",
     "text": [
      "Vec:  [tfidf vec] -> Accuracy: 0.21 (+/- 0.07) Test: 0.16  Model: [naive Bayes]\n"
     ]
    },
    {
     "name": "stderr",
     "output_type": "stream",
     "text": [
      "/usr/local/lib/python3.5/dist-packages/sklearn/cross_validation.py:552: Warning: The least populated class in y has only 1 members, which is too few. The minimum number of labels for any class cannot be less than n_folds=5.\n",
      "  % (min_labels, self.n_folds)), Warning)\n"
     ]
    },
    {
     "name": "stdout",
     "output_type": "stream",
     "text": [
      "Vec:  [tfidf vec] -> Accuracy: 0.11 (+/- 0.03) Test: 0.10  Model: [svm]\n"
     ]
    },
    {
     "name": "stderr",
     "output_type": "stream",
     "text": [
      "/usr/local/lib/python3.5/dist-packages/sklearn/cross_validation.py:552: Warning: The least populated class in y has only 1 members, which is too few. The minimum number of labels for any class cannot be less than n_folds=5.\n",
      "  % (min_labels, self.n_folds)), Warning)\n"
     ]
    },
    {
     "name": "stdout",
     "output_type": "stream",
     "text": [
      "Vec:  [tfidf vec] -> Accuracy: 0.40 (+/- 0.08) Test: 0.31  Model: [knn]\n"
     ]
    },
    {
     "name": "stderr",
     "output_type": "stream",
     "text": [
      "/usr/local/lib/python3.5/dist-packages/sklearn/cross_validation.py:552: Warning: The least populated class in y has only 1 members, which is too few. The minimum number of labels for any class cannot be less than n_folds=5.\n",
      "  % (min_labels, self.n_folds)), Warning)\n"
     ]
    },
    {
     "name": "stdout",
     "output_type": "stream",
     "text": [
      "Vec:  [tfidf vec] -> Accuracy: 0.11 (+/- 0.02) Test: 0.10  Model: [nn mlp]\n"
     ]
    },
    {
     "name": "stderr",
     "output_type": "stream",
     "text": [
      "/usr/local/lib/python3.5/dist-packages/sklearn/cross_validation.py:552: Warning: The least populated class in y has only 1 members, which is too few. The minimum number of labels for any class cannot be less than n_folds=5.\n",
      "  % (min_labels, self.n_folds)), Warning)\n"
     ]
    },
    {
     "name": "stdout",
     "output_type": "stream",
     "text": [
      "Vec:  [tfidf vec] -> Accuracy: 0.29 (+/- 0.06) Test: 0.20  Model: [ensemble]\n"
     ]
    }
   ],
   "source": [
    "from sklearn.model_selection import cross_val_score\n",
    "from sklearn.linear_model import LogisticRegression\n",
    "from sklearn.naive_bayes import GaussianNB\n",
    "from sklearn.ensemble import RandomForestClassifier\n",
    "from sklearn.ensemble import VotingClassifier\n",
    "from sklearn.naive_bayes import MultinomialNB\n",
    "from sklearn import neighbors\n",
    "from sklearn.neighbors import RadiusNeighborsClassifier\n",
    "from sklearn import svm\n",
    "n_neighbors = 15\n",
    "from sklearn.neural_network import MLPClassifier\n",
    "from sklearn.linear_model import SGDClassifier\n",
    "clf = SGDClassifier(loss=\"hinge\", penalty=\"l2\")\n",
    "clf1 = LogisticRegression(random_state=1)\n",
    "clf2 = RandomForestClassifier(random_state=1)\n",
    "clf3 = GaussianNB()\n",
    "clf4 = MultinomialNB()\n",
    "clf5 = svm.SVC()\n",
    "clf6 = neighbors.KNeighborsClassifier(n_neighbors)\n",
    "clf7 = MLPClassifier(solver='lbfgs', alpha=1e-5, hidden_layer_sizes=(5, 2), random_state=1)\n",
    "eclf = VotingClassifier(estimators=[('lr', clf1), ('rf', clf2), ('mnb', clf4), ('svm', clf5),('knn', clf6), \n",
    "                                    ('mlp', clf7), ('sgd', clf)], voting='hard')\n",
    "vec6_count = CountVectorizer(tokenizer=tokenize,min_df=minp,max_df=maxp,ngram_range=(1,3),analyzer='word')\n",
    "vec6_idf =   TfidfVectorizer(tokenizer=tokenize,min_df=minp,max_df=maxp,ngram_range=(1,3),analyzer='word')\n",
    "\n",
    "for vec, vec_lab in zip([vec6_count, vec6_idf],['Count vec','tfidf vec']):\n",
    "    for clf, label in zip([clf, clf1, clf2, clf4, clf5, clf6, clf7, eclf], \n",
    "                          ['Stocastic Gradient','Logistic Regression', 'Random Forest', 'naive Bayes', \n",
    "                           'svm','knn','nn mlp', 'ensemble']):\n",
    "        pipe = pipeline.Pipeline([('vectorizer', vec),('clf', clf)])\n",
    "        train_scores = cross_validation.cross_val_score(pipe, X_train, y_train, cv=5)\n",
    "        pipe=pipe.fit(X_train, y_train)\n",
    "        test_score=pipe.score(X_test,y_test)\n",
    "        print(\"Vec:  [%s] -> Accuracy: %0.2f (+/- %0.2f) Test: %0.2f  Model: [%s]\" \n",
    "              % (vec_lab, train_scores.mean(), train_scores.std(), test_score, label))"
   ]
  },
  {
   "cell_type": "code",
   "execution_count": null,
   "metadata": {
    "collapsed": true
   },
   "outputs": [],
   "source": []
  },
  {
   "cell_type": "code",
   "execution_count": null,
   "metadata": {
    "collapsed": true
   },
   "outputs": [],
   "source": []
  }
 ],
 "metadata": {
  "anaconda-cloud": {},
  "kernelspec": {
   "display_name": "Python 3",
   "language": "python",
   "name": "python3"
  },
  "language_info": {
   "codemirror_mode": {
    "name": "ipython",
    "version": 3
   },
   "file_extension": ".py",
   "mimetype": "text/x-python",
   "name": "python",
   "nbconvert_exporter": "python",
   "pygments_lexer": "ipython3",
   "version": "3.5.2"
  }
 },
 "nbformat": 4,
 "nbformat_minor": 0
}
