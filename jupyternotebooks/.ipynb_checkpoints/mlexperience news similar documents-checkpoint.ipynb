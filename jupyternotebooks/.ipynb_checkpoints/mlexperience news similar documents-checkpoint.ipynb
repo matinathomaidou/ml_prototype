{
 "cells": [
  {
   "cell_type": "markdown",
   "metadata": {},
   "source": [
    "### mlexperience - similar news stores"
   ]
  },
  {
   "cell_type": "code",
   "execution_count": 26,
   "metadata": {
    "collapsed": false
   },
   "outputs": [
    {
     "name": "stdout",
     "output_type": "stream",
     "text": [
      "247\n"
     ]
    }
   ],
   "source": [
    "import pandas as pd  #For python data frame\n",
    "import pymongo #For mongoDB\n",
    "#important\n",
    "#run guardian.py first to create the data set\n",
    "#guardian.py \n",
    "#start_date = date.today() - timedelta(2)  -  2 days from the current day\n",
    "#end_date = date.today() - timedelta(1) - end 1 day from the current day\n",
    "#to get a longer period change the timedelta(x) \n",
    "\n",
    "\n",
    "#Create connection to the MongoDB. Note the MongoDB must be running.\n",
    "conn=pymongo.MongoClient('localhost',27017)\n",
    "db = conn.mlexperience  #This database needs to be changed according to date of scrape\n",
    "#Robomonogo 0.9.0 is useful to see the database and json structures of documents\n",
    "#https://robomongo.org/\n",
    "\n",
    "print(db.news.count())  #Print out the number of records in the database, visual check on connection.\n",
    "\n",
    "df = pd.DataFrame(list(db.news.find())) #Copy the reports to the dataframe and close the connection\n",
    "conn.close() \n",
    "    "
   ]
  },
  {
   "cell_type": "code",
   "execution_count": 27,
   "metadata": {
    "collapsed": false
   },
   "outputs": [
    {
     "data": {
      "text/html": [
       "<div>\n",
       "<table border=\"1\" class=\"dataframe\">\n",
       "  <thead>\n",
       "    <tr style=\"text-align: right;\">\n",
       "      <th></th>\n",
       "      <th>_id</th>\n",
       "      <th>content_type</th>\n",
       "      <th>date</th>\n",
       "      <th>link</th>\n",
       "      <th>ml_id</th>\n",
       "      <th>publication</th>\n",
       "      <th>published_by</th>\n",
       "      <th>simlist</th>\n",
       "      <th>summary</th>\n",
       "      <th>tags</th>\n",
       "      <th>text</th>\n",
       "      <th>title</th>\n",
       "      <th>topic</th>\n",
       "    </tr>\n",
       "  </thead>\n",
       "  <tbody>\n",
       "    <tr>\n",
       "      <th>0</th>\n",
       "      <td>59386401464e070ec643b2f8</td>\n",
       "      <td>article</td>\n",
       "      <td>2017-05-08T23:53:19Z</td>\n",
       "      <td>https://gu.com/p/6dj59</td>\n",
       "      <td>world/2017/may/09/philippines-senator-tells-un...</td>\n",
       "      <td>theguardian.com</td>\n",
       "      <td>AUS</td>\n",
       "      <td></td>\n",
       "      <td>Ally of Rodrigo Duterte employs Trump-speak to...</td>\n",
       "      <td>[{'Url': 'https://www.theguardian.com/world/ph...</td>\n",
       "      <td>There has been no new wave of killings prompte...</td>\n",
       "      <td>Philippines senator tells UN reports of drug w...</td>\n",
       "      <td>/World news</td>\n",
       "    </tr>\n",
       "  </tbody>\n",
       "</table>\n",
       "</div>"
      ],
      "text/plain": [
       "                        _id content_type                  date  \\\n",
       "0  59386401464e070ec643b2f8      article  2017-05-08T23:53:19Z   \n",
       "\n",
       "                     link                                              ml_id  \\\n",
       "0  https://gu.com/p/6dj59  world/2017/may/09/philippines-senator-tells-un...   \n",
       "\n",
       "       publication published_by simlist  \\\n",
       "0  theguardian.com          AUS           \n",
       "\n",
       "                                             summary  \\\n",
       "0  Ally of Rodrigo Duterte employs Trump-speak to...   \n",
       "\n",
       "                                                tags  \\\n",
       "0  [{'Url': 'https://www.theguardian.com/world/ph...   \n",
       "\n",
       "                                                text  \\\n",
       "0  There has been no new wave of killings prompte...   \n",
       "\n",
       "                                               title        topic  \n",
       "0  Philippines senator tells UN reports of drug w...  /World news  "
      ]
     },
     "execution_count": 27,
     "metadata": {},
     "output_type": "execute_result"
    }
   ],
   "source": [
    "df[:1]"
   ]
  },
  {
   "cell_type": "code",
   "execution_count": 28,
   "metadata": {
    "collapsed": false
   },
   "outputs": [],
   "source": [
    "data1 = pd.DataFrame(data=df)\n",
    "data1 = data1[['ml_id','topic','text']]\n",
    "import numpy as np\n",
    "#normalize machine learning related matrix\n",
    "#data1.apply(lambda x: (x - np.mean(x) / (np.max(x) - np.min(x))))\n",
    "#normalize\n",
    "y = data1[['topic']]\n",
    "x = data1[['text']]\n"
   ]
  },
  {
   "cell_type": "code",
   "execution_count": 29,
   "metadata": {
    "collapsed": false
   },
   "outputs": [],
   "source": [
    "def sim_doc(documents):\n",
    "    from gensim import corpora, models, similarities\n",
    "    documents = list(df['text'].values)\n",
    "    # remove common words and tokenize\n",
    "    stoplist = set('for a of the and to in'.split())\n",
    "    texts = [[word for word in document.lower().split() if word not in stoplist]\n",
    "          for document in documents]\n",
    "\n",
    "    # remove words that appear only once\n",
    "    from collections import defaultdict\n",
    "    frequency = defaultdict(int)\n",
    "    for text in texts:\n",
    "         for token in text:\n",
    "            frequency[token] += 1\n",
    "    texts = [[token for token in text if frequency[token] > 0]\n",
    "          for text in texts]\n",
    "    dictionary = corpora.Dictionary(texts)\n",
    "    corpus = [dictionary.doc2bow(text) for text in texts]\n",
    "    tfidf = models.TfidfModel(corpus)\n",
    "    index = similarities.SparseMatrixSimilarity(tfidf[corpus], num_features=len(dictionary))\n",
    "    return index, dictionary, tfidf"
   ]
  },
  {
   "cell_type": "code",
   "execution_count": 37,
   "metadata": {
    "collapsed": false
   },
   "outputs": [],
   "source": [
    "def find_stats(indexed, doc, dictionary, tfidf):\n",
    "    vec_bow = dictionary.doc2bow(doc.lower().split())   \n",
    "    sims = indexed[tfidf[vec_bow]]\n",
    "    sims = sorted(enumerate(sims), key=lambda item: -item[1])\n",
    "    docs = list()\n",
    "    for t in range(0,len(sims)):\n",
    "        doc, score = sims[t]\n",
    "        if (score > .10 and score!= 1.0):\n",
    "            docs.append(doc)\n",
    "    \n",
    "    if (len(docs) > 0):\n",
    "            return (docs)\n",
    "    else:\n",
    "            return 0,0,0\n",
    "    return   "
   ]
  },
  {
   "cell_type": "code",
   "execution_count": 38,
   "metadata": {
    "collapsed": false
   },
   "outputs": [],
   "source": [
    "indexer, dictionary, tfidf = sim_doc(list(df['text'].values))"
   ]
  },
  {
   "cell_type": "code",
   "execution_count": 41,
   "metadata": {
    "collapsed": false
   },
   "outputs": [
    {
     "name": "stdout",
     "output_type": "stream",
     "text": [
      "[90, 226, 201]\n"
     ]
    }
   ],
   "source": [
    "finder = 90\n",
    "try:\n",
    "    doc_find = df['text'][finder]\n",
    "    stats = find_stats(indexer, doc_find, dictionary, tfidf)\n",
    "    #print('Story: ', df['text'][finder])\n",
    "    print(stats)\n",
    "except KeyError:\n",
    "    print('Not in memory')"
   ]
  },
  {
   "cell_type": "code",
   "execution_count": 44,
   "metadata": {
    "collapsed": false
   },
   "outputs": [],
   "source": [
    "doc_find = df['ml_id'][90]\n",
    "doc_find1 = df['ml_id'][201]\n",
    "doc_find2 = df['ml_id'][226]"
   ]
  },
  {
   "cell_type": "code",
   "execution_count": 45,
   "metadata": {
    "collapsed": false
   },
   "outputs": [
    {
     "name": "stdout",
     "output_type": "stream",
     "text": [
      "lifeandstyle/2017/may/08/first-fire-woman-josephine-reynolds-1982 education/2017/may/08/nus-president-malia-bouattia-it-was-the-most-difficult-year-of-my-life tv-and-radio/2017/may/08/caitlyn-jenner-bruce-transitioning-kardashians-reality-tv-star\n"
     ]
    }
   ],
   "source": [
    "print(doc_find, doc_find1, doc_find2)"
   ]
  },
  {
   "cell_type": "code",
   "execution_count": null,
   "metadata": {
    "collapsed": false
   },
   "outputs": [],
   "source": [
    "\n"
   ]
  },
  {
   "cell_type": "code",
   "execution_count": null,
   "metadata": {
    "collapsed": true
   },
   "outputs": [],
   "source": []
  }
 ],
 "metadata": {
  "anaconda-cloud": {},
  "kernelspec": {
   "display_name": "Python 3",
   "language": "python",
   "name": "python3"
  },
  "language_info": {
   "codemirror_mode": {
    "name": "ipython",
    "version": 3
   },
   "file_extension": ".py",
   "mimetype": "text/x-python",
   "name": "python",
   "nbconvert_exporter": "python",
   "pygments_lexer": "ipython3",
   "version": "3.5.2"
  }
 },
 "nbformat": 4,
 "nbformat_minor": 0
}
